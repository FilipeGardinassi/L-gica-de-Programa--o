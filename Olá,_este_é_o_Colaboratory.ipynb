{
  "cells": [
    {
      "cell_type": "code",
      "source": [
        "# Aqui temos um laço que permite ao usuário fazer várias operações\n",
        "while True:\n",
        "    # Comandos que pedem dois números ao usuário, independente de serem os mesmos\n",
        "    num1 = int(input(\"Digite o primeiro número: \"))\n",
        "    num2 = int(input(\"Digite o segundo número: \"))\n",
        "\n",
        "    # Operações matemáticas delimitadas pela tarefa\n",
        "    soma = num1 + num2\n",
        "    subtracao = num1 - num2\n",
        "    multiplicacao = num1 * num2\n",
        "    divisao = num1 / num2\n",
        "\n",
        "    # Exibe os resultados das operações matemáticas acima\n",
        "    print(\"Soma:\", soma)\n",
        "    print(\"Subtração:\", subtracao)\n",
        "    print(\"Multiplicação:\", multiplicacao)\n",
        "    print(\"Divisão:\", divisao)\n",
        "\n",
        "    # Pergunta se o usuário deseja continuar\n",
        "    while True:\n",
        "        continuar = input(\"\\nDeseja realizar outra operação? (sim/não): \")\n",
        "        # Verifica se a resposta é válida\n",
        "        if continuar == 'sim' or continuar == 'não':\n",
        "            break  # Se for válida, sai do loop interno\n",
        "        else:\n",
        "            print(\"Resposta inválida! Por favor, digite 'sim' para continuar ou 'não' para sair.\")\n",
        "\n",
        "    # Se o usuário digitar 'não', o laço é interrompido e o programa termina\n",
        "    if continuar == 'não':\n",
        "        print(\"Obrigado por usar a calculadora!\")\n",
        "        break  # Sai do laço principal"
      ],
      "metadata": {
        "id": "aSfMljNEaYsE",
        "outputId": "9b54b26a-2fc2-4c94-9984-9031b000c6aa",
        "colab": {
          "base_uri": "https://localhost:8080/"
        }
      },
      "execution_count": 18,
      "outputs": [
        {
          "output_type": "stream",
          "name": "stdout",
          "text": [
            "Digite o primeiro número: 65\n",
            "Digite o segundo número: 65\n",
            "Soma: 130\n",
            "Subtração: 0\n",
            "Multiplicação: 4225\n",
            "Divisão: 1.0\n",
            "\n",
            "Deseja realizar outra operação? (sim/não): acha\n",
            "Resposta inválida! Por favor, digite 'sim' para continuar ou 'não' para sair.\n",
            "\n",
            "Deseja realizar outra operação? (sim/não): sim\n",
            "Digite o primeiro número: 80\n",
            "Digite o segundo número: 18145615\n",
            "Soma: 18145695\n",
            "Subtração: -18145535\n",
            "Multiplicação: 1451649200\n",
            "Divisão: 4.408778649828071e-06\n",
            "\n",
            "Deseja realizar outra operação? (sim/não): não\n",
            "Obrigado por usar a calculadora!\n"
          ]
        }
      ]
    }
  ],
  "metadata": {
    "colab": {
      "name": "Olá, este é o Colaboratory",
      "provenance": []
    },
    "kernelspec": {
      "display_name": "Python 3",
      "name": "python3"
    }
  },
  "nbformat": 4,
  "nbformat_minor": 0
}